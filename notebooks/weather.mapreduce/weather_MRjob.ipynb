{
 "metadata": {
  "name": "",
  "signature": "sha256:3d5ee64fc7901dc7017c48752379838bef576e37a7af8424bd29579b6b95c7ad"
 },
 "nbformat": 3,
 "nbformat_minor": 0,
 "worksheets": [
  {
   "cells": [
    {
     "cell_type": "code",
     "collapsed": false,
     "input": [
      "import pandas as pd\n",
      "import numpy as np\n",
      "import sklearn as sk\n",
      "print 'pandas version: ',pd.__version__\n",
      "print 'numpy version:',np.__version__\n",
      "print 'sklearn version:',sk.__version__"
     ],
     "language": "python",
     "metadata": {},
     "outputs": [
      {
       "output_type": "stream",
       "stream": "stdout",
       "text": [
        "pandas version:  0.13.1\n",
        "numpy version: 1.8.0\n",
        "sklearn version: 0.14.1\n"
       ]
      }
     ],
     "prompt_number": 1
    },
    {
     "cell_type": "code",
     "collapsed": false,
     "input": [
      "data_dir='/Users/yoavfreund/BigData/UCSD_BigData/data/weather'\n",
      "!ls $data_dir\n",
      "!pwd"
     ],
     "language": "python",
     "metadata": {},
     "outputs": [
      {
       "output_type": "stream",
       "stream": "stdout",
       "text": [
        "ALL.head.csv                SAMPLE_TMAX.csv.old.gz      ghcnd-readme.txt            ghcnd-stations_buffered.txt\r\n",
        "SAMPLE_TMAX.csv             data-source.txt             ghcnd-stations.txt          ghcnd-version.txt\r\n"
       ]
      },
      {
       "output_type": "stream",
       "stream": "stdout",
       "text": [
        "/Users/yoavfreund/BigData/UCSD_BigData/notebooks/weather.mapreduce\r\n"
       ]
      }
     ],
     "prompt_number": 2
    },
    {
     "cell_type": "code",
     "collapsed": false,
     "input": [
      "import pickle\n",
      "with open('stations.pkl','wb') as file:\n",
      "    pickle.dump(stations,file, pickle.HIGHEST_PROTOCOL)\n",
      "!rm Stat2Lat.pkl\n",
      "!ls -l stations.pkl\n",
      "!gzip stations.pkl\n",
      "!ls -l stations.pkl*\n",
      "!ls -l $data_dir/ghcnd-stations.txt"
     ],
     "language": "python",
     "metadata": {},
     "outputs": [
      {
       "ename": "NameError",
       "evalue": "name 'stations' is not defined",
       "output_type": "pyerr",
       "traceback": [
        "\u001b[0;31m---------------------------------------------------------------------------\u001b[0m\n\u001b[0;31mNameError\u001b[0m                                 Traceback (most recent call last)",
        "\u001b[0;32m<ipython-input-3-c493ec3dc061>\u001b[0m in \u001b[0;36m<module>\u001b[0;34m()\u001b[0m\n\u001b[1;32m      1\u001b[0m \u001b[0;32mimport\u001b[0m \u001b[0mpickle\u001b[0m\u001b[0;34m\u001b[0m\u001b[0m\n\u001b[1;32m      2\u001b[0m \u001b[0;32mwith\u001b[0m \u001b[0mopen\u001b[0m\u001b[0;34m(\u001b[0m\u001b[0;34m'stations.pkl'\u001b[0m\u001b[0;34m,\u001b[0m\u001b[0;34m'wb'\u001b[0m\u001b[0;34m)\u001b[0m \u001b[0;32mas\u001b[0m \u001b[0mfile\u001b[0m\u001b[0;34m:\u001b[0m\u001b[0;34m\u001b[0m\u001b[0m\n\u001b[0;32m----> 3\u001b[0;31m     \u001b[0mpickle\u001b[0m\u001b[0;34m.\u001b[0m\u001b[0mdump\u001b[0m\u001b[0;34m(\u001b[0m\u001b[0mstations\u001b[0m\u001b[0;34m,\u001b[0m\u001b[0mfile\u001b[0m\u001b[0;34m,\u001b[0m \u001b[0mpickle\u001b[0m\u001b[0;34m.\u001b[0m\u001b[0mHIGHEST_PROTOCOL\u001b[0m\u001b[0;34m)\u001b[0m\u001b[0;34m\u001b[0m\u001b[0m\n\u001b[0m\u001b[1;32m      4\u001b[0m \u001b[0mget_ipython\u001b[0m\u001b[0;34m(\u001b[0m\u001b[0;34m)\u001b[0m\u001b[0;34m.\u001b[0m\u001b[0msystem\u001b[0m\u001b[0;34m(\u001b[0m\u001b[0;34mu'rm Stat2Lat.pkl'\u001b[0m\u001b[0;34m)\u001b[0m\u001b[0;34m\u001b[0m\u001b[0m\n\u001b[1;32m      5\u001b[0m \u001b[0mget_ipython\u001b[0m\u001b[0;34m(\u001b[0m\u001b[0;34m)\u001b[0m\u001b[0;34m.\u001b[0m\u001b[0msystem\u001b[0m\u001b[0;34m(\u001b[0m\u001b[0;34mu'ls -l stations.pkl'\u001b[0m\u001b[0;34m)\u001b[0m\u001b[0;34m\u001b[0m\u001b[0m\n",
        "\u001b[0;31mNameError\u001b[0m: name 'stations' is not defined"
       ]
      }
     ],
     "prompt_number": 3
    },
    {
     "cell_type": "code",
     "collapsed": false,
     "input": [
      "#%load Eigen-by-Station.sh"
     ],
     "language": "python",
     "metadata": {},
     "outputs": [],
     "prompt_number": 23
    },
    {
     "cell_type": "raw",
     "metadata": {},
     "source": [
      "#!/bin/bash\n",
      "# compute weather statistics as a function of station's latitude.\n",
      "\n",
      "source $CSD181/hadoop/hadoop_shared/hadoop_bashrc.sh\n",
      "\n",
      "code_dir=$CSD181/yfreund/weather/processing\n",
      "in_hdfs=/user/arapat/weather\n",
      "out_hdfs=/user/$USER/weather_eigen_2\n",
      "\n",
      "hdfs -rmr $out_hdfs\n",
      "\n",
      "time had jar /opt/hadoop/contrib/streaming/hadoop-*streaming*.jar -Dmapred.map.tasks=20 -Dmapred.reduce.tasks=20 -mapper $code_dir/map-year-temp.py -reducer $code_dir/reduce-year-temp.py -input $in_hdfs/* -output $out_hdfs\n",
      "\n",
      "\n",
      "#Instead of plain text files, you can generate gzip files as your generated output. \n",
      "# Pass '-D mapred.output.compress=true -D mapred.output.compression.codec=org.apache.hadoop.io.compress.GzipCodec' as option to your streaming job.\n"
     ]
    },
    {
     "cell_type": "code",
     "collapsed": false,
     "input": [
      "#%load map-year-temp.py"
     ],
     "language": "python",
     "metadata": {},
     "outputs": [],
     "prompt_number": 5
    },
    {
     "cell_type": "code",
     "collapsed": false,
     "input": [
      "#!/bin/env python\n",
      "import os,sys,re,pickle,coding\n",
      "from numpy import *\n",
      "\n",
      "!gunzip stations.pkl.gz\n",
      "stations=pickle.load(open('stations.pkl', 'rb'))\n",
      "!gzip stations.pkl\n",
      "\n",
      "#Days=pickle.load(open('Dates.pkl', 'rb'))\n",
      "\n",
      "stations.head()"
     ],
     "language": "python",
     "metadata": {},
     "outputs": [
      {
       "html": [
        "<div style=\"max-height:1000px;max-width:1500px;overflow:auto;\">\n",
        "<table border=\"1\" class=\"dataframe\">\n",
        "  <thead>\n",
        "    <tr style=\"text-align: right;\">\n",
        "      <th></th>\n",
        "      <th>latitude</th>\n",
        "      <th>longitude</th>\n",
        "      <th>elevation</th>\n",
        "      <th>state</th>\n",
        "      <th>name</th>\n",
        "      <th>GSNFLAG</th>\n",
        "      <th>HCNFLAG</th>\n",
        "      <th>WMOID</th>\n",
        "    </tr>\n",
        "  </thead>\n",
        "  <tbody>\n",
        "    <tr>\n",
        "      <th>ACW00011604</th>\n",
        "      <td> 17.1167</td>\n",
        "      <td>-61.7833</td>\n",
        "      <td>   10.1</td>\n",
        "      <td> NaN</td>\n",
        "      <td> ST JOHNS COOLIDGE FLD</td>\n",
        "      <td> NaN</td>\n",
        "      <td> NaN</td>\n",
        "      <td>   NaN</td>\n",
        "    </tr>\n",
        "    <tr>\n",
        "      <th>ACW00011647</th>\n",
        "      <td> 17.1333</td>\n",
        "      <td>-61.7833</td>\n",
        "      <td>   19.2</td>\n",
        "      <td> NaN</td>\n",
        "      <td>              ST JOHNS</td>\n",
        "      <td> NaN</td>\n",
        "      <td> NaN</td>\n",
        "      <td>   NaN</td>\n",
        "    </tr>\n",
        "    <tr>\n",
        "      <th>AE000041196</th>\n",
        "      <td> 25.3330</td>\n",
        "      <td> 55.5170</td>\n",
        "      <td>   34.0</td>\n",
        "      <td> NaN</td>\n",
        "      <td>   SHARJAH INTER. AIRP</td>\n",
        "      <td> GSN</td>\n",
        "      <td> NaN</td>\n",
        "      <td> 41196</td>\n",
        "    </tr>\n",
        "    <tr>\n",
        "      <th>AF000040930</th>\n",
        "      <td> 35.3170</td>\n",
        "      <td> 69.0170</td>\n",
        "      <td> 3366.0</td>\n",
        "      <td> NaN</td>\n",
        "      <td>          NORTH-SALANG</td>\n",
        "      <td> GSN</td>\n",
        "      <td> NaN</td>\n",
        "      <td> 40930</td>\n",
        "    </tr>\n",
        "    <tr>\n",
        "      <th>AG000060390</th>\n",
        "      <td> 36.7167</td>\n",
        "      <td>  3.2500</td>\n",
        "      <td>   24.0</td>\n",
        "      <td> NaN</td>\n",
        "      <td>    ALGER-DAR EL BEIDA</td>\n",
        "      <td> GSN</td>\n",
        "      <td> NaN</td>\n",
        "      <td> 60390</td>\n",
        "    </tr>\n",
        "  </tbody>\n",
        "</table>\n",
        "<p>5 rows \u00d7 8 columns</p>\n",
        "</div>"
       ],
       "metadata": {},
       "output_type": "pyout",
       "prompt_number": 3,
       "text": [
        "             latitude  longitude  elevation state                   name  \\\n",
        "ACW00011604   17.1167   -61.7833       10.1   NaN  ST JOHNS COOLIDGE FLD   \n",
        "ACW00011647   17.1333   -61.7833       19.2   NaN               ST JOHNS   \n",
        "AE000041196   25.3330    55.5170       34.0   NaN    SHARJAH INTER. AIRP   \n",
        "AF000040930   35.3170    69.0170     3366.0   NaN           NORTH-SALANG   \n",
        "AG000060390   36.7167     3.2500       24.0   NaN     ALGER-DAR EL BEIDA   \n",
        "\n",
        "            GSNFLAG HCNFLAG  WMOID  \n",
        "ACW00011604     NaN     NaN    NaN  \n",
        "ACW00011647     NaN     NaN    NaN  \n",
        "AE000041196     GSN     NaN  41196  \n",
        "AF000040930     GSN     NaN  40930  \n",
        "AG000060390     GSN     NaN  60390  \n",
        "\n",
        "[5 rows x 8 columns]"
       ]
      }
     ],
     "prompt_number": 3
    },
    {
     "cell_type": "code",
     "collapsed": false,
     "input": [
      "!ls -l $data_dir/*"
     ],
     "language": "python",
     "metadata": {},
     "outputs": [
      {
       "output_type": "stream",
       "stream": "stdout",
       "text": [
        "-rw-r--r--  1 yoavfreund  staff    860337 May  7 19:06 ../../data/weather/ALL.head.csv\r\n",
        "-rw-r--r--  1 yoavfreund  staff  26114979 Apr 15 09:04 ../../data/weather/SAMPLE_TMAX.csv\r\n",
        "-rw-r--r--  1 yoavfreund  staff   8022358 Apr  7 14:23 ../../data/weather/SAMPLE_TMAX.csv.old.gz\r\n",
        "-rw-r--r--  1 yoavfreund  staff       218 Apr 15 09:04 ../../data/weather/data-source.txt\r\n",
        "-rw-r--r--  1 yoavfreund  staff     22422 Apr 15 09:04 ../../data/weather/ghcnd-readme.txt\r\n",
        "-rw-r--r--  1 yoavfreund  staff   7334424 Apr 15 09:04 ../../data/weather/ghcnd-stations.txt\r\n",
        "-rw-r--r--  1 yoavfreund  staff   7760844 Apr 15 09:04 ../../data/weather/ghcnd-stations_buffered.txt\r\n",
        "-rw-r--r--  1 yoavfreund  staff       270 Apr 15 09:04 ../../data/weather/ghcnd-version.txt\r\n"
       ]
      }
     ],
     "prompt_number": 31
    },
    {
     "cell_type": "code",
     "collapsed": false,
     "input": [
      "!head -2 $data_dir/ALL.head.csv"
     ],
     "language": "python",
     "metadata": {},
     "outputs": [
      {
       "output_type": "stream",
       "stream": "stdout",
       "text": [
        "ASN00054128,DAPR,1969,,,,,,,,,,,,,,,,,,,,,,,,,,,,,,,,,,,,,,,,,,,,,,,,,,,,,,,,,,,,,,,,,,,,,,,,,,,,,,,,,,,,,,,,,,,,,,,,,,,,,,,,,,,,,,,,,,,,,,,,,,,,,,,,,,,,,,,,,,,,,,,,,,,,,,,,,,,,,,,,,,,,,,,,,,,,,,,,,,,,,,,,,,,,,,,,,,,,,,,,,,,,,,,,,,,,,,,,,,,,,,,,,,,,,,,,,,,,,,,,,,,,,,,2,,,,,,,,,,,,,,,,,,,,,,,,,,,,,,,,,,,,,,,,,,,,,,,,,,,,,,,,,,,,,,,,,,,,,,,,,,,,,,,,,,,,,,,,,,,,,,,,,,,,,,,,,,,,,,,,,,,,,,\r\n",
        "ASN00054128,DAPR,1971,,,,,,,,,,,,,,,,,,,,,,,,,,,,,,,,,,,,,,,,,,,,,,,,,,,,,,,,,,,,,,,,,,,,,,,,,,,,,,,,,,,,,,,,,,,,,,,,,,,,,,,,,,,,,,,,,,,,,,,,,,,,,,,,,,,,,,,,,,,,,,,,3,,,,,,,3,,,,,,,,,,,,,,,,,,,,,,,,,,,,,,,,,,,,,,,,,,,,,,,,,,,,,,,,,,,,,,,,,,,,,,,,,,,,,,,,,,,,,,,,,,,,,,,,,,,,,,,,,,,,,,,,,,,,,,,,,,,,,,,,,,,,,,,,,,,,,,,,,,,,,,,,,,,,,,,,,,,,,,,,,,,,,,,,,,,,,,,,,,,,,,,,,,,,,,,,,,,,,,,,,,,,,,\r\n"
       ]
      }
     ],
     "prompt_number": 4
    },
    {
     "cell_type": "code",
     "collapsed": false,
     "input": [
      "!cp ../mrjob/mr_word_freq_counters.py mr_weather.py\n",
      "%load mr_weather.py"
     ],
     "language": "python",
     "metadata": {},
     "outputs": [],
     "prompt_number": 35
    },
    {
     "cell_type": "code",
     "collapsed": false,
     "input": [
      "%%writefile mr_weather.py\n",
      "#!/usr/bin/python\n",
      "\"\"\"\n",
      "count the number of measurements of each type\n",
      "\"\"\"\n",
      "from mrjob.job import MRJob\n",
      "import re\n",
      "from sys import stderr\n",
      "\n",
      "#logfile=open('log','w')\n",
      "logfile=stderr\n",
      "\n",
      "class MRWeather(MRJob):\n",
      "\n",
      "    def mapper(self, _, line):\n",
      "        self.increment_counter('MrJob Counters','mapper',1)\n",
      "        elements=line.split(',')\n",
      "        if elements[0]=='station':\n",
      "            yield('header',1)\n",
      "        else:\n",
      "            yield(elements[1],1)\n",
      "            \n",
      "    def combiner(self, word, counts):\n",
      "        self.increment_counter('MrJob Counters','combiner',1)\n",
      "        yield (word, sum(counts))\n",
      "        #l_counts=[c for c in counts]  # extract list from iterator\n",
      "        #S=sum(l_counts)\n",
      "        #logfile.write('combiner '+word+' ['+','.join([str(c) for c in l_counts])+']='+str(S)+'\\n')\n",
      "        #yield (word, S)\n",
      "\n",
      "    def reducer(self, word, counts):\n",
      "        self.increment_counter('MrJob Counters','reducer',1)\n",
      "        yield (word, sum(counts))\n",
      "        #l_counts=[c for c in counts]  # extract list from iterator\n",
      "        #S=sum(l_counts)\n",
      "        #logfile.write('reducer '+word+' ['+','.join([str(c) for c in l_counts])+']='+str(S)+'\\n')\n",
      "        #yield (word, S)\n",
      "\n",
      "if __name__ == '__main__':\n",
      "    MRWeather.run()"
     ],
     "language": "python",
     "metadata": {},
     "outputs": [
      {
       "output_type": "stream",
       "stream": "stdout",
       "text": [
        "Overwriting mr_weather.py\n"
       ]
      }
     ],
     "prompt_number": 1
    },
    {
     "cell_type": "code",
     "collapsed": false,
     "input": [
      "!python mr_weather.py /Users/yoavfreund/BigData/UCSD_BigData/data/weather/ALL.head.csv > counts"
     ],
     "language": "python",
     "metadata": {},
     "outputs": [
      {
       "output_type": "stream",
       "stream": "stdout",
       "text": [
        "using configs in /Users/yoavfreund/.mrjob.conf\r\n",
        "creating tmp directory /var/folders/80/c2kfvdvx5cx570r4vlzqgb840000gq/T/mr_weather.yoavfreund.20140508.201508.979166\r\n"
       ]
      },
      {
       "output_type": "stream",
       "stream": "stdout",
       "text": [
        "writing to /var/folders/80/c2kfvdvx5cx570r4vlzqgb840000gq/T/mr_weather.yoavfreund.20140508.201508.979166/step-0-mapper_part-00000\r\n"
       ]
      },
      {
       "output_type": "stream",
       "stream": "stdout",
       "text": [
        "Counters from step 1:\r\n",
        "  MrJob Counters:\r\n",
        "    combiner: 22\r\n",
        "    mapper: 1000\r\n",
        "writing to /var/folders/80/c2kfvdvx5cx570r4vlzqgb840000gq/T/mr_weather.yoavfreund.20140508.201508.979166/step-0-mapper-sorted\r\n",
        "> sort /var/folders/80/c2kfvdvx5cx570r4vlzqgb840000gq/T/mr_weather.yoavfreund.20140508.201508.979166/step-0-mapper_part-00000\r\n",
        "writing to /var/folders/80/c2kfvdvx5cx570r4vlzqgb840000gq/T/mr_weather.yoavfreund.20140508.201508.979166/step-0-reducer_part-00000\r\n",
        "Counters from step 1:\r\n",
        "  MrJob Counters:\r\n",
        "    combiner: 22\r\n",
        "    mapper: 1000\r\n",
        "    reducer: 22\r\n",
        "Moving /var/folders/80/c2kfvdvx5cx570r4vlzqgb840000gq/T/mr_weather.yoavfreund.20140508.201508.979166/step-0-reducer_part-00000 -> /var/folders/80/c2kfvdvx5cx570r4vlzqgb840000gq/T/mr_weather.yoavfreund.20140508.201508.979166/output/part-00000\r\n",
        "Streaming final output from /var/folders/80/c2kfvdvx5cx570r4vlzqgb840000gq/T/mr_weather.yoavfreund.20140508.201508.979166/output\r\n",
        "removing tmp directory /var/folders/80/c2kfvdvx5cx570r4vlzqgb840000gq/T/mr_weather.yoavfreund.20140508.201508.979166\r\n"
       ]
      }
     ],
     "prompt_number": 4
    },
    {
     "cell_type": "code",
     "collapsed": false,
     "input": [
      "!cat counts"
     ],
     "language": "python",
     "metadata": {},
     "outputs": [
      {
       "output_type": "stream",
       "stream": "stdout",
       "text": [
        "\"DAPR\"\t29\r\n",
        "\"DASF\"\t3\r\n",
        "\"DWPR\"\t17\r\n",
        "\"MDPR\"\t37\r\n",
        "\"MDSF\"\t5\r\n",
        "\"PRCP\"\t420\r\n",
        "\"SNOW\"\t83\r\n",
        "\"SNWD\"\t85\r\n",
        "\"TMAX\"\t123\r\n",
        "\"TMIN\"\t106\r\n",
        "\"TOBS\"\t45\r\n",
        "\"WT01\"\t12\r\n",
        "\"WT03\"\t7\r\n",
        "\"WT04\"\t5\r\n",
        "\"WT05\"\t2\r\n",
        "\"WT06\"\t3\r\n",
        "\"WT08\"\t2\r\n",
        "\"WT11\"\t3\r\n",
        "\"WT14\"\t4\r\n",
        "\"WT16\"\t5\r\n",
        "\"WT18\"\t3\r\n",
        "\"header\"\t1\r\n"
       ]
      }
     ],
     "prompt_number": 50
    },
    {
     "cell_type": "code",
     "collapsed": false,
     "input": [
      "#%load $data_dir/ghcnd-readme.txt\n",
      "#after loading - restricted to part that describes the the measurement types"
     ],
     "language": "python",
     "metadata": {},
     "outputs": [],
     "prompt_number": 52
    },
    {
     "cell_type": "markdown",
     "metadata": {},
     "source": [
      "ELEMENT    is the element type.   There are five core elements as well as a number\n",
      "           of addition elements.  \n",
      "\t   \n",
      "\t   The five core elements are:\n",
      "\n",
      "       PRCP = Precipitation (tenths of mm)\n",
      "       SNOW = Snowfall (mm)\n",
      "\t   SNWD = Snow depth (mm)\n",
      "       TMAX = Maximum temperature (tenths of degrees C)\n",
      "       TMIN = Minimum temperature (tenths of degrees C)\n",
      "\t   \n",
      "\t   The other elements are:\n",
      "\t   \n",
      "\t   ACMC = Average cloudiness midnight to midnight from 30-second \n",
      "\t          ceilometer data (percent)\n",
      "\t   ACMH = Average cloudiness midnight to midnight from \n",
      "\t          manual observations (percent)\n",
      "           ACSC = Average cloudiness sunrise to sunset from 30-second \n",
      "\t          ceilometer data (percent)\n",
      "\t   ACSH = Average cloudiness sunrise to sunset from manual \n",
      "\t          observations (percent)\n",
      "\t   AWND = Average daily wind speed (tenths of meters per second)\n",
      "\t   DAEV = Number of days included in the multiday evaporation\n",
      "\t          total (MDEV)\n",
      "\t   DAPR = Number of days included in the multiday precipiation \n",
      "\t          total (MDPR)\n",
      "           DASF = Number of days included in the multiday snowfall \n",
      "\t          total (MDSF)\t\t  \n",
      "\t   DATN = Number of days included in the multiday minimum temperature \n",
      "\t         (MDTN)\n",
      "\t   DATX = Number of days included in the multiday maximum temperature \n",
      "\t          (MDTX)\n",
      "           DAWM = Number of days included in the multiday wind movement\n",
      "\t          (MDWM)\n",
      "\t   DWPR = Number of days with non-zero precipitation included in \n",
      "\t          multiday precipitation total (MDPR)\n",
      "\t   EVAP = Evaporation of water from evaporation pan (tenths of mm)\n",
      "\t   FMTM = Time of fastest mile or fastest 1-minute wind \n",
      "\t          (hours and minutes, i.e., HHMM)\n",
      "\t   FRGB = Base of frozen ground layer (cm)\n",
      "\t   FRGT = Top of frozen ground layer (cm)\n",
      "\t   FRTH = Thickness of frozen ground layer (cm)\n",
      "\t   GAHT = Difference between river and gauge height (cm)\n",
      "\t   MDEV = Multiday evaporation total (tenths of mm; use with DAEV)\n",
      "\t   MDPR = Multiday precipitation total (tenths of mm; use with DAPR and \n",
      "\t          DWPR, if available)\n",
      "\t   MDSF = Multiday snowfall total \n",
      "\t   MDTN = Multiday minimum temperature (tenths of degrees C; use with \n",
      "\t          DATN)\n",
      "\t   MDTX = Multiday maximum temperature (tenths of degress C; use with \n",
      "\t          DATX)\n",
      "\t   MDWM = Multiday wind movement (km)\n",
      "           MNPN = Daily minimum temperature of water in an evaporation pan \n",
      "\t         (tenths of degrees C)\n",
      "           MXPN = Daily maximum temperature of water in an evaporation pan \n",
      "\t         (tenths of degrees C)\n",
      "\t   PGTM = Peak gust time (hours and minutes, i.e., HHMM)\n",
      "\t   PSUN = Daily percent of possible sunshine (percent)\n",
      "\t   SN*# = Minimum soil temperature (tenths of degrees C)\n",
      "\t          where * corresponds to a code\n",
      "\t          for ground cover and # corresponds to a code for soil \n",
      "\t\t  depth.  \n",
      "\t\t  \n",
      "\t\t  Ground cover codes include the following:\n",
      "\t\t  0 = unknown\n",
      "\t\t  1 = grass\n",
      "\t\t  2 = fallow\n",
      "\t\t  3 = bare ground\n",
      "\t\t  4 = brome grass\n",
      "\t\t  5 = sod\n",
      "\t\t  6 = straw multch\n",
      "\t\t  7 = grass muck\n",
      "\t\t  8 = bare muck\n",
      "\t\t  \n",
      "\t\t  Depth codes include the following:\n",
      "\t\t  1 = 5 cm\n",
      "\t\t  2 = 10 cm\n",
      "\t\t  3 = 20 cm\n",
      "\t\t  4 = 50 cm\n",
      "\t\t  5 = 100 cm\n",
      "\t\t  6 = 150 cm\n",
      "\t\t  7 = 180 cm\n",
      "\t\t  \n",
      "\t   SX*# = Maximum soil temperature (tenths of degrees C) \n",
      "\t          where * corresponds to a code for ground cover \n",
      "\t\t  and # corresponds to a code for soil depth. \n",
      "\t\t  See SN*# for ground cover and depth codes. \n",
      "\n",
      "           THIC = Thickness of ice on water (tenths of mm)\t\n",
      " \t   TOBS = Temperature at the time of observation (tenths of degrees C)\n",
      "\t   TSUN = Daily total sunshine (minutes)\n",
      "\t   WDF1 = Direction of fastest 1-minute wind (degrees)\n",
      "\t   WDF2 = Direction of fastest 2-minute wind (degrees)\n",
      "\t   WDF5 = Direction of fastest 5-second wind (degrees)\n",
      "\t   WDFG = Direction of peak wind gust (degrees)\n",
      "\t   WDFI = Direction of highest instantaneous wind (degrees)\n",
      "\t   WDFM = Fastest mile wind direction (degrees)\n",
      "           WDMV = 24-hour wind movement (km)\t   \n",
      "           WESD = Water equivalent of snow on the ground (tenths of mm)\n",
      "\t   WESF = Water equivalent of snowfall (tenths of mm)\n",
      "\t   WSF1 = Fastest 1-minute wind speed (tenths of meters per second)\n",
      "\t   WSF2 = Fastest 2-minute wind speed (tenths of meters per second)\n",
      "\t   WSF5 = Fastest 5-second wind speed (tenths of meters per second)\n",
      "\t   WSFG = Peak guest wind speed (tenths of meters per second)\n",
      "\t   WSFI = Highest instantaneous wind speed (tenths of meters per second)\n",
      "\t   WSFM = Fastest mile wind speed (tenths of meters per second)\n",
      "\t   WT** = Weather Type where ** has one of the following values:\n",
      "\t   \n",
      "                  01 = Fog, ice fog, or freezing fog (may include heavy fog)\n",
      "                  02 = Heavy fog or heaving freezing fog (not always \n",
      "\t\t       distinquished from fog)\n",
      "                  03 = Thunder\n",
      "                  04 = Ice pellets, sleet, snow pellets, or small hail \n",
      "                  05 = Hail (may include small hail)\n",
      "                  06 = Glaze or rime \n",
      "                  07 = Dust, volcanic ash, blowing dust, blowing sand, or \n",
      "\t\t       blowing obstruction\n",
      "                  08 = Smoke or haze \n",
      "                  09 = Blowing or drifting snow\n",
      "                  10 = Tornado, waterspout, or funnel cloud \n",
      "                  11 = High or damaging winds\n",
      "                  12 = Blowing spray\n",
      "                  13 = Mist\n",
      "                  14 = Drizzle\n",
      "                  15 = Freezing drizzle \n",
      "                  16 = Rain (may include freezing rain, drizzle, and\n",
      "\t\t       freezing drizzle) \n",
      "                  17 = Freezing rain \n",
      "                  18 = Snow, snow pellets, snow grains, or ice crystals\n",
      "                  19 = Unknown source of precipitation \n",
      "                  21 = Ground fog \n",
      "                  22 = Ice fog or freezing fog\n",
      "\t\t  \n",
      "            WV** = Weather in the Vicinity where ** has one of the following \n",
      "\t           values:\n",
      "\t\t   \n",
      "\t\t   01 = Fog, ice fog, or freezing fog (may include heavy fog)\n",
      "\t\t   03 = Thunder\n",
      "\t\t   07 = Ash, dust, sand, or other blowing obstruction\n",
      "\t\t   18 = Snow or ice crystals\n",
      "\t\t   20 = Rain or snow shower\n"
     ]
    },
    {
     "cell_type": "code",
     "collapsed": false,
     "input": [
      "job_flow_id='j-BPX1DCPJZHBT'\n",
      "#!python mr_weather.py -r emr  --emr-job-flow-id=$job_flow_id hdfs:/weather/weather.csv > counts\n",
      "!python mr_weather.py -r emr  --emr-job-flow-id=$job_flow_id hdfs:/weather/weather.csv > counts\n",
      "#!python mr_weather.py -r emr -c /Users/yoavfreund/BigData/mrjob/Student_Config --emr-job-flow-id=$job_flow_id hdfs:/weather/weather.csv > counts"
     ],
     "language": "python",
     "metadata": {},
     "outputs": [
      {
       "output_type": "stream",
       "stream": "stdout",
       "text": [
        "using configs in /Users/yoavfreund/.mrjob.conf\r\n"
       ]
      },
      {
       "output_type": "stream",
       "stream": "stdout",
       "text": [
        "creating tmp directory /var/folders/80/c2kfvdvx5cx570r4vlzqgb840000gq/T/mr_weather.yoavfreund.20140511.164825.100696\r\n"
       ]
      },
      {
       "output_type": "stream",
       "stream": "stdout",
       "text": [
        "Copying non-input files into s3://yoav.hadoop/scratch/mr_weather.yoavfreund.20140511.164825.100696/files/\r\n"
       ]
      },
      {
       "output_type": "stream",
       "stream": "stdout",
       "text": [
        "Adding our job to existing job flow j-BPX1DCPJZHBT\r\n"
       ]
      },
      {
       "output_type": "stream",
       "stream": "stdout",
       "text": [
        "Job launched 30.5s ago, status RUNNING: Running step (mr_weather.yoavfreund.20140511.164825.100696: Step 1 of 1)\r\n"
       ]
      }
     ]
    },
    {
     "cell_type": "code",
     "collapsed": false,
     "input": [
      "!cat counts"
     ],
     "language": "python",
     "metadata": {},
     "outputs": [],
     "prompt_number": 35
    },
    {
     "cell_type": "code",
     "collapsed": false,
     "input": [],
     "language": "python",
     "metadata": {},
     "outputs": []
    }
   ],
   "metadata": {}
  }
 ]
}